{
 "cells": [
  {
   "cell_type": "code",
   "execution_count": 1,
   "id": "0dabba48",
   "metadata": {},
   "outputs": [],
   "source": [
    "# Import everything we need.\n",
    "# (pandas, matplotlib, seaborn and a bunch of sklearn)\n",
    "import pandas as pd\n",
    "import matplotlib.pyplot as plt\n",
    "import seaborn as sns\n",
    "from sklearn.feature_selection import SelectKBest\n",
    "from sklearn.feature_selection import chi2\n",
    "from sklearn.metrics import classification_report\n",
    "from sklearn.metrics import accuracy_score\n",
    "from sklearn.model_selection import train_test_split\n",
    "from sklearn.ensemble import RandomForestClassifier\n",
    "from sklearn.naive_bayes import GaussianNB"
   ]
  },
  {
   "cell_type": "code",
   "execution_count": 2,
   "id": "af840451",
   "metadata": {},
   "outputs": [
    {
     "data": {
      "text/html": [
       "<div>\n",
       "<style scoped>\n",
       "    .dataframe tbody tr th:only-of-type {\n",
       "        vertical-align: middle;\n",
       "    }\n",
       "\n",
       "    .dataframe tbody tr th {\n",
       "        vertical-align: top;\n",
       "    }\n",
       "\n",
       "    .dataframe thead th {\n",
       "        text-align: right;\n",
       "    }\n",
       "</style>\n",
       "<table border=\"1\" class=\"dataframe\">\n",
       "  <thead>\n",
       "    <tr style=\"text-align: right;\">\n",
       "      <th></th>\n",
       "      <th>ID</th>\n",
       "      <th>Week2_Quiz1</th>\n",
       "      <th>Week3_MP1</th>\n",
       "      <th>Week3_PR1</th>\n",
       "      <th>Week5_MP2</th>\n",
       "      <th>Week5_PR2</th>\n",
       "      <th>Week7_MP3</th>\n",
       "      <th>Week7_PR3</th>\n",
       "      <th>Week4_Quiz2</th>\n",
       "      <th>Week6_Quiz3</th>\n",
       "      <th>...</th>\n",
       "      <th>Week7_Stat3</th>\n",
       "      <th>Week8_Stat0</th>\n",
       "      <th>Week8_Stat1</th>\n",
       "      <th>Week8_Stat2</th>\n",
       "      <th>Week8_Stat3</th>\n",
       "      <th>Week9_Stat0</th>\n",
       "      <th>Week9_Stat1</th>\n",
       "      <th>Week9_Stat2</th>\n",
       "      <th>Week9_Stat3</th>\n",
       "      <th>Grade</th>\n",
       "    </tr>\n",
       "  </thead>\n",
       "  <tbody>\n",
       "    <tr>\n",
       "      <th>0</th>\n",
       "      <td>ML-2020-1</td>\n",
       "      <td>5.00</td>\n",
       "      <td>15.0</td>\n",
       "      <td>5.0</td>\n",
       "      <td>16.09</td>\n",
       "      <td>5.00</td>\n",
       "      <td>21.88</td>\n",
       "      <td>5.0</td>\n",
       "      <td>5.00</td>\n",
       "      <td>5.0</td>\n",
       "      <td>...</td>\n",
       "      <td>0</td>\n",
       "      <td>5</td>\n",
       "      <td>4</td>\n",
       "      <td>0</td>\n",
       "      <td>4</td>\n",
       "      <td>8</td>\n",
       "      <td>6</td>\n",
       "      <td>1</td>\n",
       "      <td>0</td>\n",
       "      <td>4</td>\n",
       "    </tr>\n",
       "    <tr>\n",
       "      <th>1</th>\n",
       "      <td>ML-2020-2</td>\n",
       "      <td>3.33</td>\n",
       "      <td>15.0</td>\n",
       "      <td>5.0</td>\n",
       "      <td>17.83</td>\n",
       "      <td>5.00</td>\n",
       "      <td>22.27</td>\n",
       "      <td>5.0</td>\n",
       "      <td>4.00</td>\n",
       "      <td>5.0</td>\n",
       "      <td>...</td>\n",
       "      <td>8</td>\n",
       "      <td>5</td>\n",
       "      <td>2</td>\n",
       "      <td>0</td>\n",
       "      <td>0</td>\n",
       "      <td>25</td>\n",
       "      <td>3</td>\n",
       "      <td>2</td>\n",
       "      <td>5</td>\n",
       "      <td>4</td>\n",
       "    </tr>\n",
       "    <tr>\n",
       "      <th>2</th>\n",
       "      <td>ML-2020-3</td>\n",
       "      <td>1.67</td>\n",
       "      <td>13.0</td>\n",
       "      <td>5.0</td>\n",
       "      <td>15.22</td>\n",
       "      <td>5.00</td>\n",
       "      <td>27.05</td>\n",
       "      <td>2.5</td>\n",
       "      <td>5.00</td>\n",
       "      <td>5.0</td>\n",
       "      <td>...</td>\n",
       "      <td>0</td>\n",
       "      <td>8</td>\n",
       "      <td>2</td>\n",
       "      <td>0</td>\n",
       "      <td>0</td>\n",
       "      <td>9</td>\n",
       "      <td>0</td>\n",
       "      <td>1</td>\n",
       "      <td>0</td>\n",
       "      <td>3</td>\n",
       "    </tr>\n",
       "    <tr>\n",
       "      <th>3</th>\n",
       "      <td>ML-2020-4</td>\n",
       "      <td>2.50</td>\n",
       "      <td>14.0</td>\n",
       "      <td>5.0</td>\n",
       "      <td>10.00</td>\n",
       "      <td>5.00</td>\n",
       "      <td>31.02</td>\n",
       "      <td>5.0</td>\n",
       "      <td>3.13</td>\n",
       "      <td>5.0</td>\n",
       "      <td>...</td>\n",
       "      <td>4</td>\n",
       "      <td>10</td>\n",
       "      <td>0</td>\n",
       "      <td>0</td>\n",
       "      <td>0</td>\n",
       "      <td>7</td>\n",
       "      <td>6</td>\n",
       "      <td>0</td>\n",
       "      <td>0</td>\n",
       "      <td>3</td>\n",
       "    </tr>\n",
       "    <tr>\n",
       "      <th>4</th>\n",
       "      <td>ML-2020-6</td>\n",
       "      <td>0.00</td>\n",
       "      <td>15.0</td>\n",
       "      <td>5.0</td>\n",
       "      <td>12.17</td>\n",
       "      <td>4.93</td>\n",
       "      <td>15.91</td>\n",
       "      <td>5.0</td>\n",
       "      <td>4.67</td>\n",
       "      <td>5.0</td>\n",
       "      <td>...</td>\n",
       "      <td>6</td>\n",
       "      <td>8</td>\n",
       "      <td>5</td>\n",
       "      <td>1</td>\n",
       "      <td>1</td>\n",
       "      <td>5</td>\n",
       "      <td>3</td>\n",
       "      <td>1</td>\n",
       "      <td>0</td>\n",
       "      <td>2</td>\n",
       "    </tr>\n",
       "  </tbody>\n",
       "</table>\n",
       "<p>5 rows × 48 columns</p>\n",
       "</div>"
      ],
      "text/plain": [
       "          ID  Week2_Quiz1  Week3_MP1  Week3_PR1  Week5_MP2  Week5_PR2  \\\n",
       "0  ML-2020-1         5.00       15.0        5.0      16.09       5.00   \n",
       "1  ML-2020-2         3.33       15.0        5.0      17.83       5.00   \n",
       "2  ML-2020-3         1.67       13.0        5.0      15.22       5.00   \n",
       "3  ML-2020-4         2.50       14.0        5.0      10.00       5.00   \n",
       "4  ML-2020-6         0.00       15.0        5.0      12.17       4.93   \n",
       "\n",
       "   Week7_MP3  Week7_PR3  Week4_Quiz2  Week6_Quiz3  ...  Week7_Stat3  \\\n",
       "0      21.88        5.0         5.00          5.0  ...            0   \n",
       "1      22.27        5.0         4.00          5.0  ...            8   \n",
       "2      27.05        2.5         5.00          5.0  ...            0   \n",
       "3      31.02        5.0         3.13          5.0  ...            4   \n",
       "4      15.91        5.0         4.67          5.0  ...            6   \n",
       "\n",
       "   Week8_Stat0  Week8_Stat1  Week8_Stat2  Week8_Stat3  Week9_Stat0  \\\n",
       "0            5            4            0            4            8   \n",
       "1            5            2            0            0           25   \n",
       "2            8            2            0            0            9   \n",
       "3           10            0            0            0            7   \n",
       "4            8            5            1            1            5   \n",
       "\n",
       "   Week9_Stat1  Week9_Stat2  Week9_Stat3  Grade  \n",
       "0            6            1            0      4  \n",
       "1            3            2            5      4  \n",
       "2            0            1            0      3  \n",
       "3            6            0            0      3  \n",
       "4            3            1            0      2  \n",
       "\n",
       "[5 rows x 48 columns]"
      ]
     },
     "execution_count": 2,
     "metadata": {},
     "output_type": "execute_result"
    }
   ],
   "source": [
    "# read the main data\n",
    "data = pd.read_csv('datasets_dataset.csv')\n",
    "data.head()"
   ]
  },
  {
   "cell_type": "code",
   "execution_count": 3,
   "id": "38e3e65c",
   "metadata": {},
   "outputs": [],
   "source": [
    "# Remove ID column, it is not necessary\n",
    "del data['ID']"
   ]
  },
  {
   "cell_type": "code",
   "execution_count": 4,
   "id": "bc3c4c2d",
   "metadata": {},
   "outputs": [],
   "source": [
    "# x = feature columns, all the columns except the last column\n",
    "x = data.iloc[:, :-1]\n",
    "\n",
    "# y = target column\n",
    "y = data.iloc[:, -1]"
   ]
  },
  {
   "cell_type": "code",
   "execution_count": 5,
   "id": "6600ccc0",
   "metadata": {
    "scrolled": true
   },
   "outputs": [],
   "source": [
    "# Feature selection\n",
    "# we select 8 features, this value was experimentally derived. See graph below\n",
    "sel = SelectKBest(chi2, k=8)\n",
    "sel.fit(x, y)\n",
    "\n",
    "# Get the columns so we have labels for later\n",
    "cols = sel.get_support(indices=True)\n",
    "x_new = x.iloc[:,cols]"
   ]
  },
  {
   "cell_type": "code",
   "execution_count": 6,
   "id": "87260d98",
   "metadata": {},
   "outputs": [
    {
     "data": {
      "text/html": [
       "<div>\n",
       "<style scoped>\n",
       "    .dataframe tbody tr th:only-of-type {\n",
       "        vertical-align: middle;\n",
       "    }\n",
       "\n",
       "    .dataframe tbody tr th {\n",
       "        vertical-align: top;\n",
       "    }\n",
       "\n",
       "    .dataframe thead th {\n",
       "        text-align: right;\n",
       "    }\n",
       "</style>\n",
       "<table border=\"1\" class=\"dataframe\">\n",
       "  <thead>\n",
       "    <tr style=\"text-align: right;\">\n",
       "      <th></th>\n",
       "      <th>Features</th>\n",
       "      <th>Random Forest</th>\n",
       "      <th>Naive Bayes</th>\n",
       "    </tr>\n",
       "  </thead>\n",
       "  <tbody>\n",
       "    <tr>\n",
       "      <th>0</th>\n",
       "      <td>3</td>\n",
       "      <td>0.941</td>\n",
       "      <td>0.882</td>\n",
       "    </tr>\n",
       "    <tr>\n",
       "      <th>1</th>\n",
       "      <td>4</td>\n",
       "      <td>1.000</td>\n",
       "      <td>0.882</td>\n",
       "    </tr>\n",
       "    <tr>\n",
       "      <th>2</th>\n",
       "      <td>5</td>\n",
       "      <td>1.000</td>\n",
       "      <td>1.000</td>\n",
       "    </tr>\n",
       "    <tr>\n",
       "      <th>3</th>\n",
       "      <td>6</td>\n",
       "      <td>1.000</td>\n",
       "      <td>1.000</td>\n",
       "    </tr>\n",
       "    <tr>\n",
       "      <th>4</th>\n",
       "      <td>7</td>\n",
       "      <td>1.000</td>\n",
       "      <td>0.941</td>\n",
       "    </tr>\n",
       "    <tr>\n",
       "      <th>5</th>\n",
       "      <td>8</td>\n",
       "      <td>1.000</td>\n",
       "      <td>1.000</td>\n",
       "    </tr>\n",
       "    <tr>\n",
       "      <th>6</th>\n",
       "      <td>9</td>\n",
       "      <td>1.000</td>\n",
       "      <td>0.941</td>\n",
       "    </tr>\n",
       "    <tr>\n",
       "      <th>7</th>\n",
       "      <td>10</td>\n",
       "      <td>1.000</td>\n",
       "      <td>0.941</td>\n",
       "    </tr>\n",
       "    <tr>\n",
       "      <th>8</th>\n",
       "      <td>11</td>\n",
       "      <td>1.000</td>\n",
       "      <td>0.941</td>\n",
       "    </tr>\n",
       "    <tr>\n",
       "      <th>9</th>\n",
       "      <td>12</td>\n",
       "      <td>1.000</td>\n",
       "      <td>0.882</td>\n",
       "    </tr>\n",
       "  </tbody>\n",
       "</table>\n",
       "</div>"
      ],
      "text/plain": [
       "   Features  Random Forest  Naive Bayes\n",
       "0         3          0.941        0.882\n",
       "1         4          1.000        0.882\n",
       "2         5          1.000        1.000\n",
       "3         6          1.000        1.000\n",
       "4         7          1.000        0.941\n",
       "5         8          1.000        1.000\n",
       "6         9          1.000        0.941\n",
       "7        10          1.000        0.941\n",
       "8        11          1.000        0.941\n",
       "9        12          1.000        0.882"
      ]
     },
     "execution_count": 6,
     "metadata": {},
     "output_type": "execute_result"
    }
   ],
   "source": [
    "# Get data from experimenting with different amount of features\n",
    "included_df = pd.read_csv('included_features.csv')\n",
    "included_df.head(10)"
   ]
  },
  {
   "cell_type": "code",
   "execution_count": 7,
   "id": "cd79f448",
   "metadata": {},
   "outputs": [
    {
     "data": {
      "text/plain": [
       "Text(0, 0.5, 'Accuracy')"
      ]
     },
     "execution_count": 7,
     "metadata": {},
     "output_type": "execute_result"
    },
    {
     "data": {
      "image/png": "[encoded data removed]",
      "text/plain": [
       "<Figure size 432x288 with 1 Axes>"
      ]
     },
     "metadata": {
      "needs_background": "light"
     },
     "output_type": "display_data"
    }
   ],
   "source": [
    "# Plot the accuracy of both models for different amount of features\n",
    "del included_df['Features']\n",
    "\n",
    "ax = included_df.plot()\n",
    "ax.set_xlabel('Features included')\n",
    "ax.set_ylabel('Accuracy')"
   ]
  },
  {
   "cell_type": "code",
   "execution_count": 8,
   "id": "5c052486",
   "metadata": {},
   "outputs": [
    {
     "data": {
      "text/plain": [
       "GaussianNB()"
      ]
     },
     "execution_count": 8,
     "metadata": {},
     "output_type": "execute_result"
    }
   ],
   "source": [
    "# Split data into training and testing data. Using 85/15 ratio\n",
    "x_train, x_test, y_train, y_test = train_test_split(x_new, y, test_size=0.15, random_state=0)\n",
    "\n",
    "# First model, random forest\n",
    "model1 = RandomForestClassifier(n_jobs=2, random_state=0)\n",
    "model1.fit(x_train, y_train)\n",
    "\n",
    "# Second model, naive bayes\n",
    "model2 = GaussianNB()\n",
    "model2.fit(x_train, y_train)"
   ]
  },
  {
   "cell_type": "code",
   "execution_count": 9,
   "id": "12a35c21",
   "metadata": {},
   "outputs": [
    {
     "name": "stdout",
     "output_type": "stream",
     "text": [
      "Random Forest Predictions\n",
      "[0 0 4 3 4 0 0 5 4 0 0 4 4 0 4 5 5]\n",
      "\n",
      "Naive Bayes Predictions\n",
      "[0 0 4 3 4 0 0 5 4 0 0 4 4 0 4 5 5]\n"
     ]
    }
   ],
   "source": [
    "# Predict with both models\n",
    "preds1 = model1.predict(x_test)\n",
    "preds2 = model2.predict(x_test)\n",
    "\n",
    "# Print the results\n",
    "print('Random Forest Predictions')\n",
    "print(preds1)\n",
    "print()\n",
    "print('Naive Bayes Predictions')\n",
    "print(preds2)"
   ]
  },
  {
   "cell_type": "code",
   "execution_count": 10,
   "id": "882aa280",
   "metadata": {
    "scrolled": false
   },
   "outputs": [
    {
     "name": "stdout",
     "output_type": "stream",
     "text": [
      "Random Forest Performance\n",
      "              precision    recall  f1-score   support\n",
      "\n",
      "           0       1.00      1.00      1.00         7\n",
      "           3       1.00      1.00      1.00         1\n",
      "           4       1.00      1.00      1.00         6\n",
      "           5       1.00      1.00      1.00         3\n",
      "\n",
      "    accuracy                           1.00        17\n",
      "   macro avg       1.00      1.00      1.00        17\n",
      "weighted avg       1.00      1.00      1.00        17\n",
      "\n",
      "Accuracy: 1.0\n"
     ]
    },
    {
     "data": {
      "image/png": "[encoded data removed]",
      "text/plain": [
       "<Figure size 432x288 with 2 Axes>"
      ]
     },
     "metadata": {
      "needs_background": "light"
     },
     "output_type": "display_data"
    },
    {
     "name": "stdout",
     "output_type": "stream",
     "text": [
      "========================================================\n",
      "Naive Bayes Performance\n",
      "              precision    recall  f1-score   support\n",
      "\n",
      "           0       1.00      1.00      1.00         7\n",
      "           3       1.00      1.00      1.00         1\n",
      "           4       1.00      1.00      1.00         6\n",
      "           5       1.00      1.00      1.00         3\n",
      "\n",
      "    accuracy                           1.00        17\n",
      "   macro avg       1.00      1.00      1.00        17\n",
      "weighted avg       1.00      1.00      1.00        17\n",
      "\n",
      "Accuracy: 1.0\n"
     ]
    },
    {
     "data": {
      "image/png": "[encoded data removed]",
      "text/plain": [
       "<Figure size 432x288 with 2 Axes>"
      ]
     },
     "metadata": {
      "needs_background": "light"
     },
     "output_type": "display_data"
    }
   ],
   "source": [
    "# Print metrics and show a heatmap for the performance\n",
    "print('Random Forest Performance')\n",
    "print( classification_report(y_test, preds1))\n",
    "print('Accuracy: ' + str(accuracy_score(y_test, preds1)))\n",
    "\n",
    "# Show the heatmap using seaborn\n",
    "fig = plt.figure()\n",
    "rt_df = pd.DataFrame(classification_report(y_test, preds1, output_dict=True))\n",
    "sns.heatmap(pd.DataFrame(rt_df).iloc[:-1, :].T, annot=True)\n",
    "plt.show()\n",
    "\n",
    "print('========================================================')\n",
    "\n",
    "# Print metrics and show a heatmap for the performance\n",
    "print('Naive Bayes Performance')\n",
    "print( classification_report(y_test, preds2))\n",
    "print('Accuracy: ' + str(accuracy_score(y_test, preds2)))\n",
    "\n",
    "# Show the heatmap using seaborn\n",
    "fig = plt.figure()\n",
    "rt_df = pd.DataFrame(classification_report(y_test, preds2, output_dict=True))\n",
    "sns.heatmap(pd.DataFrame(rt_df).iloc[:-1, :].T, annot=True)\n",
    "plt.show()"
   ]
  },
  {
   "cell_type": "code",
   "execution_count": 11,
   "id": "e0ec49bd",
   "metadata": {
    "scrolled": false
   },
   "outputs": [
    {
     "name": "stdout",
     "output_type": "stream",
     "text": [
      "Feature Importance\n",
      "('Week8_Total', 0.32646580645440304)\n",
      "('Week7_MP3', 0.21471589495529703)\n",
      "('Week6_Stat1', 0.1039278660433305)\n"
     ]
    }
   ],
   "source": [
    "# Get feature importance and sort it in descending order. Then print\n",
    "print('Feature Importance')\n",
    "l = list(zip(x_train, model1.feature_importances_))\n",
    "l.sort(reverse=True, key=lambda x: x[1])\n",
    "print(l[0])\n",
    "print(l[1])\n",
    "print(l[2])"
   ]
  },
  {
   "cell_type": "code",
   "execution_count": 12,
   "id": "78237822",
   "metadata": {},
   "outputs": [
    {
     "data": {
      "image/png": "[encoded data removed]",
      "text/plain": [
       "<Figure size 864x432 with 1 Axes>"
      ]
     },
     "metadata": {
      "needs_background": "light"
     },
     "output_type": "display_data"
    }
   ],
   "source": [
    "# Display a bar chart for the feature importance\n",
    "f, i = zip(*l)\n",
    "\n",
    "plt.figure(figsize=(12,6))\n",
    "plt.bar(f, i)\n",
    "plt.show()"
   ]
  },
  {
   "cell_type": "code",
   "execution_count": null,
   "id": "a4f368c4",
   "metadata": {},
   "outputs": [],
   "source": []
  }
 ],
 "metadata": {
  "kernelspec": {
   "display_name": "Python 3 (ipykernel)",
   "language": "python",
   "name": "python3"
  },
  "language_info": {
   "codemirror_mode": {
    "name": "ipython",
    "version": 3
   },
   "file_extension": ".py",
   "mimetype": "text/x-python",
   "name": "python",
   "nbconvert_exporter": "python",
   "pygments_lexer": "ipython3",
   "version": "3.9.7"
  }
 },
 "nbformat": 4,
 "nbformat_minor": 5
}
